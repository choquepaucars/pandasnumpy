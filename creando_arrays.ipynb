{
 "cells": [
  {
   "cell_type": "markdown",
   "metadata": {},
   "source": [
    "# CREANDO ARRAYS DIRECTO CON NUMPY\n",
    "Tenemos un numero amplio de posibilidades para crear array directamente desde numpy y ademas de ello es más eficiente\\\n",
    "\\\n",
    "arange de numpy funciona casi similar a range de python la diferencia es que el primero crea arrays directamente.\n",
    "\n",
    "- range(start, stop, step)\n",
    "- np.arange(start, stop, step)\n",
    "\n",
    "\\\n",
    "np.zeros((dimension)): permite crear arrays de ceros de culquier dimensión. La dimension se especifica dentro de una tupla en su forma dimensional\\\n",
    "\n",
    "np.ones((dimension)): Permite crear arrays de unos de cualquier dimension. Es casi igual a np.zeros((dimension))\\\n",
    "\n",
    "\n",
    "np.linspace(start, stop, numero_ejemplares): La función numpy.linspace genera un array NumPy formado por n números equiespaciados entre dos dados. numpy.linspace(valor-inicial, valor-final, número de valores)\\\n",
    "\n",
    "np.logspace(start,stop,numero_datos) # genera datos espacidas en una escala logaritmica\\\n",
    "\n",
    "np.eye(forma de la matriz cuadaratica) devuelve una matriz identidad con la forma especificada\\\n",
    "\n",
    "np.random.rand(dimension): La dimension=d0,d1,d2,...,dn. genera un numero aleatorio entre 0 y 1. genera valores aleatorios en una forma dada\\\n",
    "\n",
    "np.random.randint(low, high, size) = np.random.randint(bajo, alto, tamaño): Genera array desde cero dimensiones hasta n dimensional dependiendo que tamaño se especifica y sus elementos son aleatorias especificando low y high(bajo y alto)\n",
    "\n",
    "\n"
   ]
  },
  {
   "cell_type": "code",
   "execution_count": 35,
   "metadata": {},
   "outputs": [],
   "source": [
    "import numpy as np\n"
   ]
  },
  {
   "cell_type": "code",
   "execution_count": 36,
   "metadata": {},
   "outputs": [
    {
     "data": {
      "text/plain": [
       "[0, 1, 2, 3, 4, 5, 6, 7, 8, 9]"
      ]
     },
     "execution_count": 36,
     "metadata": {},
     "output_type": "execute_result"
    }
   ],
   "source": [
    "# Range es de python y nos permite crear crear listas de manera con el list(range())\n",
    "# Range es inefiente. ya que eso mismo podemos acerlo con un funcion de numpy\n",
    "list(range(0,10))"
   ]
  },
  {
   "cell_type": "code",
   "execution_count": 37,
   "metadata": {},
   "outputs": [
    {
     "data": {
      "text/plain": [
       "array([0, 1, 2, 3, 4, 5, 6, 7, 8, 9])"
      ]
     },
     "execution_count": 37,
     "metadata": {},
     "output_type": "execute_result"
    }
   ],
   "source": [
    "# arange es una función de numpy que nos ayuda a crear arrays\n",
    "# arange nos crea desde posición 0 a 10 en el ejemplo siguiente\n",
    "np.arange(0,10)"
   ]
  },
  {
   "cell_type": "code",
   "execution_count": 38,
   "metadata": {},
   "outputs": [
    {
     "data": {
      "text/plain": [
       "array([ 0,  2,  4,  6,  8, 10, 12, 14, 16, 18])"
      ]
     },
     "execution_count": 38,
     "metadata": {},
     "output_type": "execute_result"
    }
   ],
   "source": [
    "# arange(start, stop, step)\n",
    "np.arange(0,20,2)"
   ]
  },
  {
   "cell_type": "code",
   "execution_count": 39,
   "metadata": {},
   "outputs": [
    {
     "data": {
      "text/plain": [
       "array([[0., 0., 0., 0., 0.],\n",
       "       [0., 0., 0., 0., 0.],\n",
       "       [0., 0., 0., 0., 0.],\n",
       "       [0., 0., 0., 0., 0.],\n",
       "       [0., 0., 0., 0., 0.],\n",
       "       [0., 0., 0., 0., 0.],\n",
       "       [0., 0., 0., 0., 0.],\n",
       "       [0., 0., 0., 0., 0.],\n",
       "       [0., 0., 0., 0., 0.],\n",
       "       [0., 0., 0., 0., 0.]])"
      ]
     },
     "execution_count": 39,
     "metadata": {},
     "output_type": "execute_result"
    }
   ],
   "source": [
    "# np.zeros((dimension))\n",
    "np.zeros((10,5))"
   ]
  },
  {
   "cell_type": "code",
   "execution_count": 40,
   "metadata": {},
   "outputs": [
    {
     "data": {
      "text/plain": [
       "array([[1., 1., 1., 1., 1.],\n",
       "       [1., 1., 1., 1., 1.],\n",
       "       [1., 1., 1., 1., 1.],\n",
       "       [1., 1., 1., 1., 1.],\n",
       "       [1., 1., 1., 1., 1.],\n",
       "       [1., 1., 1., 1., 1.],\n",
       "       [1., 1., 1., 1., 1.],\n",
       "       [1., 1., 1., 1., 1.],\n",
       "       [1., 1., 1., 1., 1.],\n",
       "       [1., 1., 1., 1., 1.]])"
      ]
     },
     "execution_count": 40,
     "metadata": {},
     "output_type": "execute_result"
    }
   ],
   "source": [
    "# np.ones((dimension))\n",
    "np.ones((10,5))"
   ]
  },
  {
   "cell_type": "code",
   "execution_count": 41,
   "metadata": {},
   "outputs": [
    {
     "data": {
      "text/plain": [
       "array([[1, 1, 1, 1],\n",
       "       [1, 1, 1, 1],\n",
       "       [1, 1, 1, 1]], dtype=int8)"
      ]
     },
     "execution_count": 41,
     "metadata": {},
     "output_type": "execute_result"
    }
   ],
   "source": [
    "np.ones((3,4), dtype=np.int8)"
   ]
  },
  {
   "cell_type": "code",
   "execution_count": 52,
   "metadata": {},
   "outputs": [
    {
     "data": {
      "text/plain": [
       "array([ 0.        ,  1.11111111,  2.22222222,  3.33333333,  4.44444444,\n",
       "        5.55555556,  6.66666667,  7.77777778,  8.88888889, 10.        ])"
      ]
     },
     "execution_count": 52,
     "metadata": {},
     "output_type": "execute_result"
    }
   ],
   "source": [
    "# np.linspace(start, stop, numero_ejemplares) #genera ejemplares equiespaciadas entre dos datos\n",
    "np.linspace(0,10,10)"
   ]
  },
  {
   "cell_type": "code",
   "execution_count": 141,
   "metadata": {},
   "outputs": [
    {
     "data": {
      "text/plain": [
       "array([1.00000000e+00, 1.29154967e+01, 1.66810054e+02, 2.15443469e+03,\n",
       "       2.78255940e+04, 3.59381366e+05, 4.64158883e+06, 5.99484250e+07,\n",
       "       7.74263683e+08, 1.00000000e+10])"
      ]
     },
     "execution_count": 141,
     "metadata": {},
     "output_type": "execute_result"
    }
   ],
   "source": [
    "#np.logspace(start,stop,numero_datos) # genera datos espacidas en una escala logaritmica\n",
    "np.logspace(start=0, stop=10,num=10)"
   ]
  },
  {
   "cell_type": "code",
   "execution_count": 140,
   "metadata": {},
   "outputs": [
    {
     "data": {
      "text/plain": [
       "array([[1, 0, 0, 0],\n",
       "       [0, 1, 0, 0],\n",
       "       [0, 0, 1, 0],\n",
       "       [0, 0, 0, 1]], dtype=int32)"
      ]
     },
     "execution_count": 140,
     "metadata": {},
     "output_type": "execute_result"
    }
   ],
   "source": [
    "# np.eye(forma de la matriz cuadaratica) devuelve una matriz identidad con la forma especificada\n",
    "np.eye(N=4, dtype=np.int32)"
   ]
  },
  {
   "cell_type": "code",
   "execution_count": 76,
   "metadata": {},
   "outputs": [
    {
     "data": {
      "text/plain": [
       "0.2271145606665529"
      ]
     },
     "execution_count": 76,
     "metadata": {},
     "output_type": "execute_result"
    }
   ],
   "source": [
    "# np.random.rand(dimension): genera un numero aleatorio entre 0 y 1. genera valores aleatorios en una forma dada\n",
    "np.random.rand()"
   ]
  },
  {
   "cell_type": "code",
   "execution_count": 89,
   "metadata": {},
   "outputs": [
    {
     "data": {
      "text/plain": [
       "array([0.43494993, 0.79228916, 0.88211302, 0.08215702])"
      ]
     },
     "execution_count": 89,
     "metadata": {},
     "output_type": "execute_result"
    }
   ],
   "source": [
    "np.random.rand(4)"
   ]
  },
  {
   "cell_type": "code",
   "execution_count": 134,
   "metadata": {},
   "outputs": [
    {
     "name": "stdout",
     "output_type": "stream",
     "text": [
      "[[[0.16815971 0.48686914]\n",
      "  [0.87274381 0.01220204]\n",
      "  [0.57522138 0.30478926]\n",
      "  [0.43775367 0.34620289]]\n",
      "\n",
      " [[0.30164162 0.4031228 ]\n",
      "  [0.5139801  0.63391819]\n",
      "  [0.10181979 0.25935362]\n",
      "  [0.49659455 0.69553402]]\n",
      "\n",
      " [[0.85473694 0.89509712]\n",
      "  [0.53783363 0.81799676]\n",
      "  [0.60786293 0.60339614]\n",
      "  [0.6543899  0.04306897]]\n",
      "\n",
      " [[0.94949054 0.63355121]\n",
      "  [0.60178738 0.68344158]\n",
      "  [0.63803109 0.82212713]\n",
      "  [0.53228157 0.34257552]]]\n"
     ]
    }
   ],
   "source": [
    "# np.random.rand(dimensicon)        dimension=d0,d1,d2,...,dn\n",
    "n=np.random.rand(4,4,2)\n",
    "print(n)"
   ]
  },
  {
   "cell_type": "code",
   "execution_count": 131,
   "metadata": {},
   "outputs": [
    {
     "data": {
      "text/plain": [
       "12"
      ]
     },
     "execution_count": 131,
     "metadata": {},
     "output_type": "execute_result"
    }
   ],
   "source": [
    "# np.random.randint(low, high, size) = np.random.randint(alto, bajo, tamaño)\n",
    "np.random.randint(low=1,high=15)"
   ]
  },
  {
   "cell_type": "code",
   "execution_count": 144,
   "metadata": {},
   "outputs": [
    {
     "data": {
      "text/plain": [
       "array([[ 6, 13,  4],\n",
       "       [13,  4, 10],\n",
       "       [ 8, 11,  1]], dtype=int32)"
      ]
     },
     "execution_count": 144,
     "metadata": {},
     "output_type": "execute_result"
    }
   ],
   "source": [
    "np.random.randint(low=1,high=15 , size=(3,3), dtype=np.int32)"
   ]
  },
  {
   "cell_type": "code",
   "execution_count": 145,
   "metadata": {},
   "outputs": [
    {
     "data": {
      "text/plain": [
       "array([[3, 1, 3],\n",
       "       [3, 4, 4],\n",
       "       [3, 1, 1]])"
      ]
     },
     "execution_count": 145,
     "metadata": {},
     "output_type": "execute_result"
    }
   ],
   "source": [
    "np.random.randint(low=1, high=5, size=(3,3), dtype=np.int64)"
   ]
  }
 ],
 "metadata": {
  "kernelspec": {
   "display_name": "Python 3.8.10 64-bit",
   "language": "python",
   "name": "python3"
  },
  "language_info": {
   "codemirror_mode": {
    "name": "ipython",
    "version": 3
   },
   "file_extension": ".py",
   "mimetype": "text/x-python",
   "name": "python",
   "nbconvert_exporter": "python",
   "pygments_lexer": "ipython3",
   "version": "3.8.10"
  },
  "orig_nbformat": 4,
  "vscode": {
   "interpreter": {
    "hash": "916dbcbb3f70747c44a77c7bcd40155683ae19c65e1c03b4aa3499c5328201f1"
   }
  }
 },
 "nbformat": 4,
 "nbformat_minor": 2
}
