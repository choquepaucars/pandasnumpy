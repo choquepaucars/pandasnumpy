{
 "cells": [
  {
   "cell_type": "markdown",
   "metadata": {},
   "source": [
    "# Series y dataframes de pandas\n",
    "A primeroa sorpresa pd.Series() muestra el array con sus idices y estas notros podemos decidir que indice va tener.\n",
    "```python\n",
    "import pandas as pd\n",
    "\n",
    "pd.Series(data=[\"Navas\", \"Mbappe\", \"Neymar\", \"Messi\"],index=[1,7,10,30])\n",
    "->  1      Navas\n",
    "    7     Mbappe\n",
    "    10    Neymar\n",
    "    30     Messi\n",
    "dtype: object\n",
    "```\n",
    "Con los objetos Series pandas podemos hacer tambien los slicing y muchos metodos y funciones que utilizamos en numpy\n",
    "```python\n",
    "psg_players=pd.Series(data=[\"Navas\", \"Mbappe\", \"Neymar\", \"Messi\"])\n",
    "psg_players\n",
    "->  0     Navas\n",
    "    1    Mbappe\n",
    "    2    Neymar\n",
    "    3     Messi\n",
    "    dtype: object\n",
    "\n",
    "psg_players[0:3]\n",
    "->  0     Navas\n",
    "    1    Mbappe\n",
    "    2    Neymar\n",
    "    dtype: object\n",
    "```\n",
    "\n",
    "np.DataFrame(): muestra numa matriz de 2 dimensiones en donde tiene filas y columnas \n",
    "```python\n",
    "dict={\n",
    "    \"Jugador\":[\"Navas\", \"Mbappe\", \"Neymar\", \"Messi\"],\n",
    "    \"Altura\": [183.0, 170.0, 170.0, 160.0],\n",
    "    \"Goles\":  [2,200,200,200]\n",
    "}\n",
    "\n",
    "df_players=pd.DataFrame(data=dict)\n",
    "df_players\n",
    "\n",
    "-> \n",
    "    Jugador\tAltura\tGoles\n",
    "0\tNavas\t183.0\t2\n",
    "1\tMbappe\t170.0\t200\n",
    "2\tNeymar\t170.0\t200\n",
    "3\tMessi\t160.0\t200\n",
    "\n",
    "```\n",
    "- La propiedad de objetos dataframes llamado columns muetra el indice de columnas\n",
    "```python\n",
    "df_players.columns\n",
    "-> Index(['Jugador', 'Altura', 'Goles'], dtype='object')\n",
    "```\n",
    "- La propiedad de objetos dataframes llamado index numestra el indice de filas\n",
    "```python\n",
    "df_players.index\n",
    "-> RangeIndex(start=0, stop=4, step=1)\n",
    "```"
   ]
  },
  {
   "cell_type": "code",
   "execution_count": 16,
   "metadata": {},
   "outputs": [],
   "source": [
    "import pandas as pd"
   ]
  },
  {
   "cell_type": "code",
   "execution_count": 17,
   "metadata": {},
   "outputs": [
    {
     "data": {
      "text/plain": [
       "1      Navas\n",
       "7     Mbappe\n",
       "10    Neymar\n",
       "30     Messi\n",
       "dtype: object"
      ]
     },
     "execution_count": 17,
     "metadata": {},
     "output_type": "execute_result"
    }
   ],
   "source": [
    "psg_players=pd.Series(data=[\"Navas\", \"Mbappe\", \"Neymar\", \"Messi\"],index=[1,7,10,30])\n",
    "psg_players"
   ]
  },
  {
   "cell_type": "code",
   "execution_count": 18,
   "metadata": {},
   "outputs": [
    {
     "data": {
      "text/plain": [
       "0     Navas\n",
       "1    Mbappe\n",
       "2    Neymar\n",
       "3     Messi\n",
       "dtype: object"
      ]
     },
     "execution_count": 18,
     "metadata": {},
     "output_type": "execute_result"
    }
   ],
   "source": [
    "pd.Series(data=[\"Navas\", \"Mbappe\", \"Neymar\", \"Messi\"])\n"
   ]
  },
  {
   "cell_type": "code",
   "execution_count": 19,
   "metadata": {},
   "outputs": [
    {
     "data": {
      "text/plain": [
       "1      Navas\n",
       "7     Mbappe\n",
       "10    Neymar\n",
       "30     Messi\n",
       "dtype: object"
      ]
     },
     "execution_count": 19,
     "metadata": {},
     "output_type": "execute_result"
    }
   ],
   "source": [
    "dict={1: \"Navas\", 7:\"Mbappe\", 10: \"Neymar\", 30:\"Messi\"}\n",
    "pd.Series(data=dict)"
   ]
  },
  {
   "cell_type": "code",
   "execution_count": 22,
   "metadata": {},
   "outputs": [
    {
     "data": {
      "text/plain": [
       "'Mbappe'"
      ]
     },
     "execution_count": 22,
     "metadata": {},
     "output_type": "execute_result"
    }
   ],
   "source": [
    "psg_players[7]"
   ]
  },
  {
   "cell_type": "code",
   "execution_count": 24,
   "metadata": {},
   "outputs": [
    {
     "data": {
      "text/plain": [
       "0     Navas\n",
       "1    Mbappe\n",
       "2    Neymar\n",
       "3     Messi\n",
       "dtype: object"
      ]
     },
     "execution_count": 24,
     "metadata": {},
     "output_type": "execute_result"
    }
   ],
   "source": [
    "psg_players=pd.Series(data=[\"Navas\", \"Mbappe\", \"Neymar\", \"Messi\"])\n",
    "psg_players"
   ]
  },
  {
   "cell_type": "code",
   "execution_count": 25,
   "metadata": {},
   "outputs": [
    {
     "data": {
      "text/plain": [
       "0     Navas\n",
       "1    Mbappe\n",
       "2    Neymar\n",
       "dtype: object"
      ]
     },
     "execution_count": 25,
     "metadata": {},
     "output_type": "execute_result"
    }
   ],
   "source": [
    "psg_players[0:3]"
   ]
  },
  {
   "cell_type": "code",
   "execution_count": 27,
   "metadata": {},
   "outputs": [
    {
     "data": {
      "text/plain": [
       "{'Jugador': ['Navas', 'Mbappe', 'Neymar', 'Messi'],\n",
       " 'Altura': [183.0, 170.0, 170.0, 160.0],\n",
       " 'Goles': [2, 200, 200, 200]}"
      ]
     },
     "execution_count": 27,
     "metadata": {},
     "output_type": "execute_result"
    }
   ],
   "source": [
    "dict={\n",
    "    \"Jugador\":[\"Navas\", \"Mbappe\", \"Neymar\", \"Messi\"],\n",
    "    \"Altura\": [183.0, 170.0, 170.0, 160.0],\n",
    "    \"Goles\":  [2,200,200,200]\n",
    "}\n",
    "dict"
   ]
  },
  {
   "cell_type": "code",
   "execution_count": 32,
   "metadata": {},
   "outputs": [
    {
     "data": {
      "text/html": [
       "<div>\n",
       "<style scoped>\n",
       "    .dataframe tbody tr th:only-of-type {\n",
       "        vertical-align: middle;\n",
       "    }\n",
       "\n",
       "    .dataframe tbody tr th {\n",
       "        vertical-align: top;\n",
       "    }\n",
       "\n",
       "    .dataframe thead th {\n",
       "        text-align: right;\n",
       "    }\n",
       "</style>\n",
       "<table border=\"1\" class=\"dataframe\">\n",
       "  <thead>\n",
       "    <tr style=\"text-align: right;\">\n",
       "      <th></th>\n",
       "      <th>Jugador</th>\n",
       "      <th>Altura</th>\n",
       "      <th>Goles</th>\n",
       "    </tr>\n",
       "  </thead>\n",
       "  <tbody>\n",
       "    <tr>\n",
       "      <th>0</th>\n",
       "      <td>Navas</td>\n",
       "      <td>183.0</td>\n",
       "      <td>2</td>\n",
       "    </tr>\n",
       "    <tr>\n",
       "      <th>1</th>\n",
       "      <td>Mbappe</td>\n",
       "      <td>170.0</td>\n",
       "      <td>200</td>\n",
       "    </tr>\n",
       "    <tr>\n",
       "      <th>2</th>\n",
       "      <td>Neymar</td>\n",
       "      <td>170.0</td>\n",
       "      <td>200</td>\n",
       "    </tr>\n",
       "    <tr>\n",
       "      <th>3</th>\n",
       "      <td>Messi</td>\n",
       "      <td>160.0</td>\n",
       "      <td>200</td>\n",
       "    </tr>\n",
       "  </tbody>\n",
       "</table>\n",
       "</div>"
      ],
      "text/plain": [
       "  Jugador  Altura  Goles\n",
       "0   Navas   183.0      2\n",
       "1  Mbappe   170.0    200\n",
       "2  Neymar   170.0    200\n",
       "3   Messi   160.0    200"
      ]
     },
     "execution_count": 32,
     "metadata": {},
     "output_type": "execute_result"
    }
   ],
   "source": [
    "df_players=pd.DataFrame(data=dict)\n",
    "df_players"
   ]
  },
  {
   "cell_type": "code",
   "execution_count": 33,
   "metadata": {},
   "outputs": [
    {
     "data": {
      "text/plain": [
       "Index(['Jugador', 'Altura', 'Goles'], dtype='object')"
      ]
     },
     "execution_count": 33,
     "metadata": {},
     "output_type": "execute_result"
    }
   ],
   "source": [
    "df_players.columns"
   ]
  },
  {
   "cell_type": "code",
   "execution_count": 34,
   "metadata": {},
   "outputs": [
    {
     "data": {
      "text/plain": [
       "RangeIndex(start=0, stop=4, step=1)"
      ]
     },
     "execution_count": 34,
     "metadata": {},
     "output_type": "execute_result"
    }
   ],
   "source": [
    "df_players.index"
   ]
  },
  {
   "cell_type": "code",
   "execution_count": null,
   "metadata": {},
   "outputs": [],
   "source": []
  }
 ],
 "metadata": {
  "kernelspec": {
   "display_name": "Python 3.8.10 64-bit",
   "language": "python",
   "name": "python3"
  },
  "language_info": {
   "codemirror_mode": {
    "name": "ipython",
    "version": 3
   },
   "file_extension": ".py",
   "mimetype": "text/x-python",
   "name": "python",
   "nbconvert_exporter": "python",
   "pygments_lexer": "ipython3",
   "version": "3.8.10"
  },
  "orig_nbformat": 4,
  "vscode": {
   "interpreter": {
    "hash": "916dbcbb3f70747c44a77c7bcd40155683ae19c65e1c03b4aa3499c5328201f1"
   }
  }
 },
 "nbformat": 4,
 "nbformat_minor": 2
}
