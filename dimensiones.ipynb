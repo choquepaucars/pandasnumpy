{
 "cells": [
  {
   "cell_type": "markdown",
   "metadata": {},
   "source": [
    "# DIMENSIONES\n",
    "Siempre necesitamso saber con que dimension estamos trabajando con el fin de acceder a los tensores\n",
    "## Dimensiones de los datos\n",
    "- Scalar: Cuando hablamos de un numero en especifico puede ser entero ...1,2,3... y flotante, etc. Ose cuando tiene dimensión 0 ese es un scalar\n",
    "- Vector: Es cuando estamos hablando de una lista, array, que está conformado por varios numeros. El vector se caracteriza por tener una sola dimensión\n",
    "- Matrix: Es un colección de numeros de dimension 2. Amenudo son tablas que tienen filas y columnas.\n",
    "- dim 3: tensor. Es una matrix de 3 dimensiones\n",
    "- dim 4: Matrix 4 dimensiones\n",
    "- dim n: A las matrices de n dimensiones se les conoce como Tensor"
   ]
  },
  {
   "cell_type": "code",
   "execution_count": 2,
   "metadata": {},
   "outputs": [],
   "source": [
    "import numpy as np"
   ]
  },
  {
   "cell_type": "code",
   "execution_count": 6,
   "metadata": {},
   "outputs": [
    {
     "name": "stdout",
     "output_type": "stream",
     "text": [
      "42\n"
     ]
    },
    {
     "data": {
      "text/plain": [
       "0"
      ]
     },
     "execution_count": 6,
     "metadata": {},
     "output_type": "execute_result"
    }
   ],
   "source": [
    "# Definiendo un scalar\n",
    "scalar=np.array(42)\n",
    "print(scalar)\n",
    "scalar.ndim # scalar tiene dimension 0"
   ]
  },
  {
   "cell_type": "code",
   "execution_count": 10,
   "metadata": {},
   "outputs": [
    {
     "name": "stdout",
     "output_type": "stream",
     "text": [
      "[1 2 3]\n"
     ]
    },
    {
     "data": {
      "text/plain": [
       "1"
      ]
     },
     "execution_count": 10,
     "metadata": {},
     "output_type": "execute_result"
    }
   ],
   "source": [
    "# Definiendo un vector\n",
    "vector=np.array([1,2,3])\n",
    "print(vector)\n",
    "vector.ndim #El vector tiene dimension 1"
   ]
  },
  {
   "cell_type": "code",
   "execution_count": 15,
   "metadata": {},
   "outputs": [
    {
     "name": "stdout",
     "output_type": "stream",
     "text": [
      "[[1 2 3]\n",
      " [4 5 6]]\n"
     ]
    },
    {
     "data": {
      "text/plain": [
       "2"
      ]
     },
     "execution_count": 15,
     "metadata": {},
     "output_type": "execute_result"
    }
   ],
   "source": [
    "# definiendo una matrix\n",
    "matrix = np.array([[1, 2, 3],\n",
    "                  [4, 5, 6]]\n",
    "                  )\n",
    "print(matrix)\n",
    "matrix.ndim # La matrix tiene dimension 2\n"
   ]
  },
  {
   "cell_type": "code",
   "execution_count": 19,
   "metadata": {},
   "outputs": [
    {
     "name": "stdout",
     "output_type": "stream",
     "text": [
      "[[[1 2 3]\n",
      "  [4 5 6]]\n",
      "\n",
      " [[3 2 4]\n",
      "  [5 4 5]]\n",
      "\n",
      " [[6 7 8]\n",
      "  [9 6 8]]]\n"
     ]
    },
    {
     "data": {
      "text/plain": [
       "3"
      ]
     },
     "execution_count": 19,
     "metadata": {},
     "output_type": "execute_result"
    }
   ],
   "source": [
    "# definiendo tensor que son las matrices que tienen 3 dimension para arriba\n",
    "tensor3 = np.array([[[1, 2, 3],\n",
    "                      [4, 5, 6]],\n",
    "                     [[3, 2, 4],\n",
    "                      [5, 4, 5]],\n",
    "                     [[6, 7, 8],\n",
    "                      [9, 6, 8]]\n",
    "                     ])\n",
    "\n",
    "print(tensor3)\n",
    "tensor3.ndim # El tensor de 3 dimensiones\n"
   ]
  },
  {
   "cell_type": "markdown",
   "metadata": {},
   "source": [
    "## Agregar o eleminar dimensiones\n",
    "\n",
    "> Con el parametro ndmin del array() se puede definir el numero de dimensiones que tendra el array\n",
    "\n",
    "> La función expand_dims() del modulo numpy expande la dimension de un array y es necesario poner el eje(axis) de expansion\n",
    "\n",
    "> La función squeeze() de modulo numpy conprime al numero de dimensiones correcto que no se esten usando"
   ]
  },
  {
   "cell_type": "code",
   "execution_count": 23,
   "metadata": {},
   "outputs": [
    {
     "name": "stdout",
     "output_type": "stream",
     "text": [
      "[[[[[[[[[[1 2 3]]]]]]]]]]\n"
     ]
    },
    {
     "data": {
      "text/plain": [
       "10"
      ]
     },
     "execution_count": 23,
     "metadata": {},
     "output_type": "execute_result"
    }
   ],
   "source": [
    "vector=np.array([1,2,3], ndmin=10) # ndmin=10, definimos la dimension al momento de crear el array\n",
    "print(vector)\n",
    "vector.ndim"
   ]
  },
  {
   "cell_type": "code",
   "execution_count": 27,
   "metadata": {},
   "outputs": [
    {
     "name": "stdout",
     "output_type": "stream",
     "text": [
      "[[1 2 3]]\n"
     ]
    },
    {
     "data": {
      "text/plain": [
       "2"
      ]
     },
     "execution_count": 27,
     "metadata": {},
     "output_type": "execute_result"
    }
   ],
   "source": [
    "expand=np.expand_dims(np.array([1,2,3]), axis=0)\n",
    "print(expand)\n",
    "expand.ndim"
   ]
  },
  {
   "cell_type": "code",
   "execution_count": 31,
   "metadata": {},
   "outputs": [
    {
     "name": "stdout",
     "output_type": "stream",
     "text": [
      "[[[[[[[[[[1 2 3]]]]]]]]]] 10\n",
      "[1 2 3] 1\n"
     ]
    }
   ],
   "source": [
    "print(vector, vector.ndim)\n",
    "vector_2=np.squeeze(vector) # squeeze conprime al numero de dimensiones correcto que no se esten usando\n",
    "print(vector_2, vector_2.ndim)\n"
   ]
  }
 ],
 "metadata": {
  "kernelspec": {
   "display_name": "Python 3.8.10 ('venv': venv)",
   "language": "python",
   "name": "python3"
  },
  "language_info": {
   "codemirror_mode": {
    "name": "ipython",
    "version": 3
   },
   "file_extension": ".py",
   "mimetype": "text/x-python",
   "name": "python",
   "nbconvert_exporter": "python",
   "pygments_lexer": "ipython3",
   "version": "3.8.10"
  },
  "orig_nbformat": 4,
  "vscode": {
   "interpreter": {
    "hash": "e16454b83b31285e2ad3a434c73ee7dd0be2f999e9991740ee9b7796c1478ff5"
   }
  }
 },
 "nbformat": 4,
 "nbformat_minor": 2
}
