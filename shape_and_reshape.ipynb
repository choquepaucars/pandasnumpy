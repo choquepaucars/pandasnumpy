{
 "cells": [
  {
   "cell_type": "markdown",
   "metadata": {},
   "source": [
    "## SHAPE AND RESHAPE\n",
    "SHAPE=FORMA\n",
    "RESHAPE=reestablecer forma\n",
    "\n",
    "> La propieda shape para los objetos de tipo array nuestra la forma del array\n",
    "\n",
    "> Objetoarray.reshape():  reshape es un metodo para cambiar la forma de un array\n",
    "\n",
    "> Función reshape permite casi los mismo que el metodo reshape\n",
    "\n",
    "\n",
    "> realizar reshape como lo haría en el lenguaje C. realiza tomando filas\n",
    "np.reshape(a=array2d, newshape=(2,3), order=\"C\")\n",
    "\n",
    "> realiza reshape como el lenguaje fortran es por ello el F. Realiza el reshape tomando columnas\n",
    "np.reshape(a=array2d, newshape=(2,3), order=\"F\")\n",
    "\n",
    "> Realiza al mejor optimización de almacenamiento de tu sistema con order=\"A\". Realizo en este caso como en el lenguaje C\n",
    "np.reshape(a=array2d, newshape=(2,3), order=\"A\")\n",
    "\n",
    "Es recomendable hacer el reshape con la forma de lenguaje C. Ya que python ha sido construido con C\n",
    "\n",
    "\n",
    "**RETO**\n",
    "- Crear un array de cualquier dimensión y cambiar sus dimensiones.\n",
    "- Intenta cambiar el array de forma que no respete la estructura original"
   ]
  },
  {
   "cell_type": "code",
   "execution_count": 30,
   "metadata": {},
   "outputs": [],
   "source": [
    "import numpy as np"
   ]
  },
  {
   "cell_type": "code",
   "execution_count": 31,
   "metadata": {},
   "outputs": [
    {
     "data": {
      "text/plain": [
       "array([[5, 7],\n",
       "       [6, 7],\n",
       "       [7, 4]])"
      ]
     },
     "execution_count": 31,
     "metadata": {},
     "output_type": "execute_result"
    }
   ],
   "source": [
    "array2d=np.random.randint(low=1,high=10,size=(3,2))\n",
    "\n",
    "array2d"
   ]
  },
  {
   "cell_type": "code",
   "execution_count": 32,
   "metadata": {},
   "outputs": [
    {
     "data": {
      "text/plain": [
       "(3, 2)"
      ]
     },
     "execution_count": 32,
     "metadata": {},
     "output_type": "execute_result"
    }
   ],
   "source": [
    "# la propieda shape para los objetos de tipo array nuestra la forma del array en (y,x)\n",
    "array2d.shape"
   ]
  },
  {
   "cell_type": "code",
   "execution_count": 33,
   "metadata": {},
   "outputs": [
    {
     "data": {
      "text/plain": [
       "array([[5, 7],\n",
       "       [6, 7],\n",
       "       [7, 4]])"
      ]
     },
     "execution_count": 33,
     "metadata": {},
     "output_type": "execute_result"
    }
   ],
   "source": [
    "array2d"
   ]
  },
  {
   "cell_type": "code",
   "execution_count": 42,
   "metadata": {},
   "outputs": [
    {
     "data": {
      "text/plain": [
       "array([[5, 7, 6, 7, 7, 4]])"
      ]
     },
     "execution_count": 42,
     "metadata": {},
     "output_type": "execute_result"
    }
   ],
   "source": [
    "# objetoarray.reshape():  reshape es un metodo para cambiar la forma de un array\n",
    "array2d.reshape(1,6)"
   ]
  },
  {
   "cell_type": "code",
   "execution_count": 35,
   "metadata": {},
   "outputs": [
    {
     "data": {
      "text/plain": [
       "array([[5, 7, 6],\n",
       "       [7, 7, 4]])"
      ]
     },
     "execution_count": 35,
     "metadata": {},
     "output_type": "execute_result"
    }
   ],
   "source": [
    "array2d.reshape(2,3)"
   ]
  },
  {
   "cell_type": "code",
   "execution_count": 36,
   "metadata": {},
   "outputs": [
    {
     "data": {
      "text/plain": [
       "array([[5, 7, 6],\n",
       "       [7, 7, 4]])"
      ]
     },
     "execution_count": 36,
     "metadata": {},
     "output_type": "execute_result"
    }
   ],
   "source": [
    "# Función reshape permite casi los mismo que el metodo reshape\n",
    "np.reshape(a=array2d, newshape=(2,3))"
   ]
  },
  {
   "cell_type": "code",
   "execution_count": 37,
   "metadata": {},
   "outputs": [
    {
     "data": {
      "text/plain": [
       "array([[5, 7],\n",
       "       [6, 7],\n",
       "       [7, 4]])"
      ]
     },
     "execution_count": 37,
     "metadata": {},
     "output_type": "execute_result"
    }
   ],
   "source": [
    "array2d"
   ]
  },
  {
   "cell_type": "code",
   "execution_count": 38,
   "metadata": {},
   "outputs": [
    {
     "data": {
      "text/plain": [
       "array([[5, 7, 6],\n",
       "       [7, 7, 4]])"
      ]
     },
     "execution_count": 38,
     "metadata": {},
     "output_type": "execute_result"
    }
   ],
   "source": [
    "# realizar reshape como lo haría en el lenguaje C. realiza tomando filas\n",
    "np.reshape(a=array2d, newshape=(2,3), order=\"C\")"
   ]
  },
  {
   "cell_type": "code",
   "execution_count": 39,
   "metadata": {},
   "outputs": [
    {
     "data": {
      "text/plain": [
       "array([[5, 7, 7],\n",
       "       [6, 7, 4]])"
      ]
     },
     "execution_count": 39,
     "metadata": {},
     "output_type": "execute_result"
    }
   ],
   "source": [
    "# realiza reshape como el lenguaje fortran es por ello el F. Realiza el reshape tomando columnas\n",
    "np.reshape(a=array2d, newshape=(2,3), order=\"F\")"
   ]
  },
  {
   "cell_type": "code",
   "execution_count": 40,
   "metadata": {},
   "outputs": [
    {
     "data": {
      "text/plain": [
       "array([[5, 7, 6],\n",
       "       [7, 7, 4]])"
      ]
     },
     "execution_count": 40,
     "metadata": {},
     "output_type": "execute_result"
    }
   ],
   "source": [
    "# Realiza al mejor optimización de almacenamiento de tu sistema con order=\"A\". Realizo en este caso como en el lenguaje C\n",
    "np.reshape(a=array2d, newshape=(2,3), order=\"A\")"
   ]
  },
  {
   "cell_type": "code",
   "execution_count": null,
   "metadata": {},
   "outputs": [],
   "source": []
  }
 ],
 "metadata": {
  "kernelspec": {
   "display_name": "Python 3.8.10 ('venv': venv)",
   "language": "python",
   "name": "python3"
  },
  "language_info": {
   "codemirror_mode": {
    "name": "ipython",
    "version": 3
   },
   "file_extension": ".py",
   "mimetype": "text/x-python",
   "name": "python",
   "nbconvert_exporter": "python",
   "pygments_lexer": "ipython3",
   "version": "3.8.10"
  },
  "orig_nbformat": 4,
  "vscode": {
   "interpreter": {
    "hash": "e16454b83b31285e2ad3a434c73ee7dd0be2f999e9991740ee9b7796c1478ff5"
   }
  }
 },
 "nbformat": 4,
 "nbformat_minor": 2
}
